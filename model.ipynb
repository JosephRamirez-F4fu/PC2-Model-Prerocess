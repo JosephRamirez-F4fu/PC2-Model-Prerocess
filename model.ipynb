{
 "cells": [
  {
   "cell_type": "code",
   "execution_count": 2,
   "id": "initial_id",
   "metadata": {
    "collapsed": true,
    "ExecuteTime": {
     "end_time": "2023-10-29T23:46:15.080984400Z",
     "start_time": "2023-10-29T23:46:11.417685700Z"
    }
   },
   "outputs": [],
   "source": [
    "import pandas as pd\n",
    "from sklearn.model_selection import train_test_split\n",
    "from keras import Sequential\n",
    "from keras.layers import Dense\n",
    "from joblib import dump, load\n",
    "import numpy as np"
   ]
  },
  {
   "cell_type": "code",
   "execution_count": 3,
   "outputs": [],
   "source": [
    "crude = pd.read_csv('./../data/brute_data.csv',sep=';')"
   ],
   "metadata": {
    "collapsed": false,
    "ExecuteTime": {
     "end_time": "2023-10-29T23:46:15.144136200Z",
     "start_time": "2023-10-29T23:46:15.097614600Z"
    }
   },
   "id": "895aa5e220d5f283"
  },
  {
   "cell_type": "code",
   "execution_count": 4,
   "outputs": [
    {
     "data": {
      "text/plain": "   weakness_of_one_body_side  neck_pain  nausea  blurred_and_distorted_vision  \\\n0                      False      False   False                         False   \n1                      False      False   False                         False   \n2                      False      False   False                         False   \n3                      False      False   False                         False   \n4                      False      False   False                         False   \n\n   altered_sensorium  weakness_in_limbs  dischromic__patches  dizziness  \\\n0              False              False                 True      False   \n1              False              False                 True      False   \n2              False              False                 True      False   \n3              False              False                 True      False   \n4              False              False                False      False   \n\n   stomach_bleeding  stiff_neck  ...  phlegm  restlessness  \\\n0             False       False  ...   False         False   \n1             False       False  ...   False         False   \n2             False       False  ...   False         False   \n3             False       False  ...   False         False   \n4             False       False  ...   False         False   \n\n   spotting__urination  pain_behind_the_eyes  muscle_weakness  \\\n0                False                 False            False   \n1                False                 False            False   \n2                False                 False            False   \n3                False                 False            False   \n4                False                 False            False   \n\n   bladder_discomfort  lack_of_concentration  runny_nose  mucoid_sputum  \\\n0               False                  False       False          False   \n1               False                  False       False          False   \n2               False                  False       False          False   \n3               False                  False       False          False   \n4               False                  False       False          False   \n\n   disease  \n0       15  \n1       15  \n2       15  \n3       15  \n4       15  \n\n[5 rows x 132 columns]",
      "text/html": "<div>\n<style scoped>\n    .dataframe tbody tr th:only-of-type {\n        vertical-align: middle;\n    }\n\n    .dataframe tbody tr th {\n        vertical-align: top;\n    }\n\n    .dataframe thead th {\n        text-align: right;\n    }\n</style>\n<table border=\"1\" class=\"dataframe\">\n  <thead>\n    <tr style=\"text-align: right;\">\n      <th></th>\n      <th>weakness_of_one_body_side</th>\n      <th>neck_pain</th>\n      <th>nausea</th>\n      <th>blurred_and_distorted_vision</th>\n      <th>altered_sensorium</th>\n      <th>weakness_in_limbs</th>\n      <th>dischromic__patches</th>\n      <th>dizziness</th>\n      <th>stomach_bleeding</th>\n      <th>stiff_neck</th>\n      <th>...</th>\n      <th>phlegm</th>\n      <th>restlessness</th>\n      <th>spotting__urination</th>\n      <th>pain_behind_the_eyes</th>\n      <th>muscle_weakness</th>\n      <th>bladder_discomfort</th>\n      <th>lack_of_concentration</th>\n      <th>runny_nose</th>\n      <th>mucoid_sputum</th>\n      <th>disease</th>\n    </tr>\n  </thead>\n  <tbody>\n    <tr>\n      <th>0</th>\n      <td>False</td>\n      <td>False</td>\n      <td>False</td>\n      <td>False</td>\n      <td>False</td>\n      <td>False</td>\n      <td>True</td>\n      <td>False</td>\n      <td>False</td>\n      <td>False</td>\n      <td>...</td>\n      <td>False</td>\n      <td>False</td>\n      <td>False</td>\n      <td>False</td>\n      <td>False</td>\n      <td>False</td>\n      <td>False</td>\n      <td>False</td>\n      <td>False</td>\n      <td>15</td>\n    </tr>\n    <tr>\n      <th>1</th>\n      <td>False</td>\n      <td>False</td>\n      <td>False</td>\n      <td>False</td>\n      <td>False</td>\n      <td>False</td>\n      <td>True</td>\n      <td>False</td>\n      <td>False</td>\n      <td>False</td>\n      <td>...</td>\n      <td>False</td>\n      <td>False</td>\n      <td>False</td>\n      <td>False</td>\n      <td>False</td>\n      <td>False</td>\n      <td>False</td>\n      <td>False</td>\n      <td>False</td>\n      <td>15</td>\n    </tr>\n    <tr>\n      <th>2</th>\n      <td>False</td>\n      <td>False</td>\n      <td>False</td>\n      <td>False</td>\n      <td>False</td>\n      <td>False</td>\n      <td>True</td>\n      <td>False</td>\n      <td>False</td>\n      <td>False</td>\n      <td>...</td>\n      <td>False</td>\n      <td>False</td>\n      <td>False</td>\n      <td>False</td>\n      <td>False</td>\n      <td>False</td>\n      <td>False</td>\n      <td>False</td>\n      <td>False</td>\n      <td>15</td>\n    </tr>\n    <tr>\n      <th>3</th>\n      <td>False</td>\n      <td>False</td>\n      <td>False</td>\n      <td>False</td>\n      <td>False</td>\n      <td>False</td>\n      <td>True</td>\n      <td>False</td>\n      <td>False</td>\n      <td>False</td>\n      <td>...</td>\n      <td>False</td>\n      <td>False</td>\n      <td>False</td>\n      <td>False</td>\n      <td>False</td>\n      <td>False</td>\n      <td>False</td>\n      <td>False</td>\n      <td>False</td>\n      <td>15</td>\n    </tr>\n    <tr>\n      <th>4</th>\n      <td>False</td>\n      <td>False</td>\n      <td>False</td>\n      <td>False</td>\n      <td>False</td>\n      <td>False</td>\n      <td>False</td>\n      <td>False</td>\n      <td>False</td>\n      <td>False</td>\n      <td>...</td>\n      <td>False</td>\n      <td>False</td>\n      <td>False</td>\n      <td>False</td>\n      <td>False</td>\n      <td>False</td>\n      <td>False</td>\n      <td>False</td>\n      <td>False</td>\n      <td>15</td>\n    </tr>\n  </tbody>\n</table>\n<p>5 rows × 132 columns</p>\n</div>"
     },
     "execution_count": 4,
     "metadata": {},
     "output_type": "execute_result"
    }
   ],
   "source": [
    "crude.head()"
   ],
   "metadata": {
    "collapsed": false,
    "ExecuteTime": {
     "end_time": "2023-10-29T23:46:15.160136100Z",
     "start_time": "2023-10-29T23:46:15.147136Z"
    }
   },
   "id": "fe061514b94a8114"
  },
  {
   "cell_type": "code",
   "execution_count": 5,
   "outputs": [],
   "source": [
    "df = pd.read_csv('./../data/data.csv',sep=';')"
   ],
   "metadata": {
    "collapsed": false,
    "ExecuteTime": {
     "end_time": "2023-10-29T23:46:15.230181Z",
     "start_time": "2023-10-29T23:46:15.162135900Z"
    }
   },
   "id": "ec393ef19c77f6ec"
  },
  {
   "cell_type": "code",
   "execution_count": 6,
   "outputs": [
    {
     "data": {
      "text/plain": "   component0  component1  component2  component3  component4  component5  \\\n0   -0.719803   -0.346616   -0.266001   -0.677252    0.502691   -0.452997   \n1   -0.795054   -0.281661   -0.330283   -0.457979    0.332691   -0.311877   \n2   -0.672693   -0.362812   -0.145696   -0.513302    0.110873   -0.205831   \n3   -0.700027   -0.335602   -0.253136   -0.644393    0.474104   -0.417268   \n4   -0.700027   -0.335602   -0.253136   -0.644393    0.474104   -0.417268   \n\n   component6  component7  component8  component9  ...  component32  \\\n0    0.079459   -0.318811   -0.411696    0.288949  ...     0.322853   \n1   -0.117961   -0.215977   -0.113383    0.138094  ...     0.278380   \n2    0.203543   -0.069569   -0.348305    0.186094  ...     0.311418   \n3    0.072877   -0.291340   -0.373902    0.258254  ...     0.195344   \n4    0.072877   -0.291340   -0.373902    0.258254  ...     0.195343   \n\n   component33  component34  component35  component36  component37  \\\n0    -0.447543     0.792265     0.073648     0.302192    -0.183543   \n1    -0.430952     0.824915     0.126415     0.442239    -0.221288   \n2    -0.443166     0.783857     0.061463     0.170975    -0.212599   \n3    -0.244977     0.394224     0.033896     0.134024    -0.056179   \n4    -0.244965     0.394239     0.033886     0.134000    -0.056207   \n\n   component38  component39  component40  result  \n0    -0.159722     0.004551    -0.017373      15  \n1    -0.408630    -0.043735     0.067861      15  \n2    -0.091286     0.024127     0.073019      15  \n3    -0.015038     0.002800    -0.022604      15  \n4    -0.015009     0.002084    -0.018114      15  \n\n[5 rows x 42 columns]",
      "text/html": "<div>\n<style scoped>\n    .dataframe tbody tr th:only-of-type {\n        vertical-align: middle;\n    }\n\n    .dataframe tbody tr th {\n        vertical-align: top;\n    }\n\n    .dataframe thead th {\n        text-align: right;\n    }\n</style>\n<table border=\"1\" class=\"dataframe\">\n  <thead>\n    <tr style=\"text-align: right;\">\n      <th></th>\n      <th>component0</th>\n      <th>component1</th>\n      <th>component2</th>\n      <th>component3</th>\n      <th>component4</th>\n      <th>component5</th>\n      <th>component6</th>\n      <th>component7</th>\n      <th>component8</th>\n      <th>component9</th>\n      <th>...</th>\n      <th>component32</th>\n      <th>component33</th>\n      <th>component34</th>\n      <th>component35</th>\n      <th>component36</th>\n      <th>component37</th>\n      <th>component38</th>\n      <th>component39</th>\n      <th>component40</th>\n      <th>result</th>\n    </tr>\n  </thead>\n  <tbody>\n    <tr>\n      <th>0</th>\n      <td>-0.719803</td>\n      <td>-0.346616</td>\n      <td>-0.266001</td>\n      <td>-0.677252</td>\n      <td>0.502691</td>\n      <td>-0.452997</td>\n      <td>0.079459</td>\n      <td>-0.318811</td>\n      <td>-0.411696</td>\n      <td>0.288949</td>\n      <td>...</td>\n      <td>0.322853</td>\n      <td>-0.447543</td>\n      <td>0.792265</td>\n      <td>0.073648</td>\n      <td>0.302192</td>\n      <td>-0.183543</td>\n      <td>-0.159722</td>\n      <td>0.004551</td>\n      <td>-0.017373</td>\n      <td>15</td>\n    </tr>\n    <tr>\n      <th>1</th>\n      <td>-0.795054</td>\n      <td>-0.281661</td>\n      <td>-0.330283</td>\n      <td>-0.457979</td>\n      <td>0.332691</td>\n      <td>-0.311877</td>\n      <td>-0.117961</td>\n      <td>-0.215977</td>\n      <td>-0.113383</td>\n      <td>0.138094</td>\n      <td>...</td>\n      <td>0.278380</td>\n      <td>-0.430952</td>\n      <td>0.824915</td>\n      <td>0.126415</td>\n      <td>0.442239</td>\n      <td>-0.221288</td>\n      <td>-0.408630</td>\n      <td>-0.043735</td>\n      <td>0.067861</td>\n      <td>15</td>\n    </tr>\n    <tr>\n      <th>2</th>\n      <td>-0.672693</td>\n      <td>-0.362812</td>\n      <td>-0.145696</td>\n      <td>-0.513302</td>\n      <td>0.110873</td>\n      <td>-0.205831</td>\n      <td>0.203543</td>\n      <td>-0.069569</td>\n      <td>-0.348305</td>\n      <td>0.186094</td>\n      <td>...</td>\n      <td>0.311418</td>\n      <td>-0.443166</td>\n      <td>0.783857</td>\n      <td>0.061463</td>\n      <td>0.170975</td>\n      <td>-0.212599</td>\n      <td>-0.091286</td>\n      <td>0.024127</td>\n      <td>0.073019</td>\n      <td>15</td>\n    </tr>\n    <tr>\n      <th>3</th>\n      <td>-0.700027</td>\n      <td>-0.335602</td>\n      <td>-0.253136</td>\n      <td>-0.644393</td>\n      <td>0.474104</td>\n      <td>-0.417268</td>\n      <td>0.072877</td>\n      <td>-0.291340</td>\n      <td>-0.373902</td>\n      <td>0.258254</td>\n      <td>...</td>\n      <td>0.195344</td>\n      <td>-0.244977</td>\n      <td>0.394224</td>\n      <td>0.033896</td>\n      <td>0.134024</td>\n      <td>-0.056179</td>\n      <td>-0.015038</td>\n      <td>0.002800</td>\n      <td>-0.022604</td>\n      <td>15</td>\n    </tr>\n    <tr>\n      <th>4</th>\n      <td>-0.700027</td>\n      <td>-0.335602</td>\n      <td>-0.253136</td>\n      <td>-0.644393</td>\n      <td>0.474104</td>\n      <td>-0.417268</td>\n      <td>0.072877</td>\n      <td>-0.291340</td>\n      <td>-0.373902</td>\n      <td>0.258254</td>\n      <td>...</td>\n      <td>0.195343</td>\n      <td>-0.244965</td>\n      <td>0.394239</td>\n      <td>0.033886</td>\n      <td>0.134000</td>\n      <td>-0.056207</td>\n      <td>-0.015009</td>\n      <td>0.002084</td>\n      <td>-0.018114</td>\n      <td>15</td>\n    </tr>\n  </tbody>\n</table>\n<p>5 rows × 42 columns</p>\n</div>"
     },
     "execution_count": 6,
     "metadata": {},
     "output_type": "execute_result"
    }
   ],
   "source": [
    "df.head()"
   ],
   "metadata": {
    "collapsed": false,
    "ExecuteTime": {
     "end_time": "2023-10-29T23:46:15.231685400Z",
     "start_time": "2023-10-29T23:46:15.207182200Z"
    }
   },
   "id": "219409013d428a4c"
  },
  {
   "cell_type": "markdown",
   "source": [
    "# split data"
   ],
   "metadata": {
    "collapsed": false
   },
   "id": "afa8156929c0e12e"
  },
  {
   "cell_type": "code",
   "execution_count": 7,
   "outputs": [],
   "source": [
    "x_train, x_test, y_train, y_test = train_test_split(df.drop('result',axis=1),df['result'],test_size=0.3,random_state=42)"
   ],
   "metadata": {
    "collapsed": false,
    "ExecuteTime": {
     "end_time": "2023-10-29T23:46:15.246690100Z",
     "start_time": "2023-10-29T23:46:15.224181700Z"
    }
   },
   "id": "65697a3c882f970"
  },
  {
   "cell_type": "markdown",
   "source": [
    "# build model"
   ],
   "metadata": {
    "collapsed": false
   },
   "id": "939e79cc8ba406e8"
  },
  {
   "cell_type": "code",
   "execution_count": 8,
   "outputs": [],
   "source": [
    "model  = Sequential()\n",
    "model.add(Dense(128, activation='relu', input_shape=(41,)))\n",
    "model.add(Dense(64, activation='relu'))\n",
    "model.add(Dense(41, activation='softmax')) "
   ],
   "metadata": {
    "collapsed": false,
    "ExecuteTime": {
     "end_time": "2023-10-29T23:46:15.380473100Z",
     "start_time": "2023-10-29T23:46:15.239691600Z"
    }
   },
   "id": "305006886c0cbeae"
  },
  {
   "cell_type": "code",
   "execution_count": 9,
   "outputs": [],
   "source": [
    "model.compile(optimizer='adam', loss='sparse_categorical_crossentropy', metrics=['accuracy'])\n",
    "\n"
   ],
   "metadata": {
    "collapsed": false,
    "ExecuteTime": {
     "end_time": "2023-10-29T23:46:15.395468400Z",
     "start_time": "2023-10-29T23:46:15.382468100Z"
    }
   },
   "id": "b9efef4e2a184885"
  },
  {
   "cell_type": "code",
   "execution_count": 10,
   "outputs": [
    {
     "name": "stdout",
     "output_type": "stream",
     "text": [
      "Epoch 1/10\n",
      "108/108 [==============================] - 1s 2ms/step - loss: 2.2694 - accuracy: 0.7825\n",
      "Epoch 2/10\n",
      "108/108 [==============================] - 0s 753us/step - loss: 0.1615 - accuracy: 1.0000\n",
      "Epoch 3/10\n",
      "108/108 [==============================] - 0s 734us/step - loss: 0.0261 - accuracy: 1.0000\n",
      "Epoch 4/10\n",
      "108/108 [==============================] - 0s 740us/step - loss: 0.0121 - accuracy: 1.0000\n",
      "Epoch 5/10\n",
      "108/108 [==============================] - 0s 748us/step - loss: 0.0071 - accuracy: 1.0000\n",
      "Epoch 6/10\n",
      "108/108 [==============================] - 0s 729us/step - loss: 0.0048 - accuracy: 1.0000\n",
      "Epoch 7/10\n",
      "108/108 [==============================] - 0s 720us/step - loss: 0.0034 - accuracy: 1.0000\n",
      "Epoch 8/10\n",
      "108/108 [==============================] - 0s 747us/step - loss: 0.0026 - accuracy: 1.0000\n",
      "Epoch 9/10\n",
      "108/108 [==============================] - 0s 729us/step - loss: 0.0020 - accuracy: 1.0000\n",
      "Epoch 10/10\n",
      "108/108 [==============================] - 0s 710us/step - loss: 0.0016 - accuracy: 1.0000\n"
     ]
    }
   ],
   "source": [
    "model.fit(x_train, y_train, epochs=10, batch_size=32)\n",
    "model.save('./../models/model.keras')\n"
   ],
   "metadata": {
    "collapsed": false,
    "ExecuteTime": {
     "end_time": "2023-10-29T23:46:16.924162500Z",
     "start_time": "2023-10-29T23:46:15.398468600Z"
    }
   },
   "id": "a647866792047966"
  },
  {
   "cell_type": "code",
   "execution_count": 11,
   "outputs": [
    {
     "name": "stdout",
     "output_type": "stream",
     "text": [
      "47/47 [==============================] - 0s 630us/step - loss: 0.0015 - accuracy: 1.0000\n",
      "Pérdida en el conjunto de prueba: 0.0014887634897604585\n",
      "Precisión en el conjunto de prueba: 1.0\n"
     ]
    }
   ],
   "source": [
    "test_loss, test_acc = model.evaluate(x_test, y_test)\n",
    "print(\"Pérdida en el conjunto de prueba:\", test_loss)\n",
    "print(\"Precisión en el conjunto de prueba:\", test_acc)"
   ],
   "metadata": {
    "collapsed": false,
    "ExecuteTime": {
     "end_time": "2023-10-29T23:46:17.077710100Z",
     "start_time": "2023-10-29T23:46:16.926164600Z"
    }
   },
   "id": "e12149051948e6d6"
  },
  {
   "cell_type": "code",
   "execution_count": 12,
   "outputs": [
    {
     "name": "stdout",
     "output_type": "stream",
     "text": [
      "1/1 [==============================] - 0s 49ms/step\n",
      "Fila de datos aleatoria:\n",
      "Características:\n",
      "component0     1.428346\n",
      "component1     0.937763\n",
      "component2    -0.757104\n",
      "component3     0.594019\n",
      "component4     1.781703\n",
      "component5    -0.220845\n",
      "component6    -0.627972\n",
      "component7    -0.447312\n",
      "component8     0.421018\n",
      "component9    -0.189547\n",
      "component10   -0.212392\n",
      "component11    0.230811\n",
      "component12   -0.421026\n",
      "component13   -0.019915\n",
      "component14    0.304988\n",
      "component15    0.206593\n",
      "component16    0.475997\n",
      "component17   -0.035320\n",
      "component18    0.647420\n",
      "component19    0.510672\n",
      "component20    0.331425\n",
      "component21   -0.440926\n",
      "component22    0.010688\n",
      "component23   -0.181083\n",
      "component24   -0.219610\n",
      "component25   -0.155777\n",
      "component26    0.104105\n",
      "component27   -0.055473\n",
      "component28   -0.130774\n",
      "component29    0.230726\n",
      "component30    0.067074\n",
      "component31   -0.094998\n",
      "component32    0.119169\n",
      "component33   -0.205321\n",
      "component34   -0.042787\n",
      "component35   -0.146171\n",
      "component36    0.214372\n",
      "component37   -0.004073\n",
      "component38    0.139849\n",
      "component39   -0.073821\n",
      "component40    0.000379\n",
      "Name: 4445, dtype: float64\n",
      "Etiqueta real: 11\n",
      "Clase predicha: 11\n"
     ]
    }
   ],
   "source": [
    "random_index = np.random.randint(0, len(x_test))  \n",
    "random_data_point = x_test.iloc[random_index]  \n",
    "true_label = y_test.iloc[random_index]  \n",
    "\n",
    "\n",
    "predicted_label = model.predict(np.array([random_data_point]))  \n",
    "\n",
    "print(\"Fila de datos aleatoria:\")\n",
    "print(\"Características:\")\n",
    "print(random_data_point)\n",
    "print(\"Etiqueta real:\", true_label)\n",
    "\n",
    "predicted_class = np.argmax(predicted_label)\n",
    "print(\"Clase predicha:\", predicted_class)"
   ],
   "metadata": {
    "collapsed": false,
    "ExecuteTime": {
     "end_time": "2023-10-29T23:46:17.177740700Z",
     "start_time": "2023-10-29T23:46:17.066202300Z"
    }
   },
   "id": "44b506dc4a186557"
  }
 ],
 "metadata": {
  "kernelspec": {
   "display_name": "Python 3",
   "language": "python",
   "name": "python3"
  },
  "language_info": {
   "codemirror_mode": {
    "name": "ipython",
    "version": 2
   },
   "file_extension": ".py",
   "mimetype": "text/x-python",
   "name": "python",
   "nbconvert_exporter": "python",
   "pygments_lexer": "ipython2",
   "version": "2.7.6"
  }
 },
 "nbformat": 4,
 "nbformat_minor": 5
}
